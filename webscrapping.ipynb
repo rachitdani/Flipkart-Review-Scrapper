{
 "cells": [
  {
   "cell_type": "code",
   "execution_count": 14,
   "id": "129e6138-0c6b-4426-b24e-7c165b5ad4ef",
   "metadata": {},
   "outputs": [],
   "source": [
    "import requests\n",
    "from bs4 import BeautifulSoup as bs\n",
    "from urllib.request import urlopen\n",
    "import logging"
   ]
  },
  {
   "cell_type": "code",
   "execution_count": 15,
   "id": "34585809-afc9-4773-8773-1dd70c85edd4",
   "metadata": {},
   "outputs": [],
   "source": [
    "flipkart_url = \"https://www.flipkart.com/search?q=\" + \"tv\""
   ]
  },
  {
   "cell_type": "code",
   "execution_count": 16,
   "id": "8c5322e6-4148-4fc8-8e1a-0e9d805e5efd",
   "metadata": {},
   "outputs": [
    {
     "data": {
      "text/plain": [
       "'https://www.flipkart.com/search?q=tv'"
      ]
     },
     "execution_count": 16,
     "metadata": {},
     "output_type": "execute_result"
    }
   ],
   "source": [
    "flipkart_url"
   ]
  },
  {
   "cell_type": "code",
   "execution_count": 17,
   "id": "0f77e725-333c-4fda-920c-9098811e7d14",
   "metadata": {},
   "outputs": [],
   "source": [
    "url_client = urlopen(flipkart_url)"
   ]
  },
  {
   "cell_type": "code",
   "execution_count": 18,
   "id": "9dfe2ee8-f076-4433-af2e-5e7ae3d651ca",
   "metadata": {},
   "outputs": [],
   "source": [
    "page = url_client.read()"
   ]
  },
  {
   "cell_type": "code",
   "execution_count": 19,
   "id": "12667015-eb76-41fa-bfd0-e000e5504bc4",
   "metadata": {},
   "outputs": [],
   "source": [
    "page_html = bs(page,\"html.parser\")"
   ]
  },
  {
   "cell_type": "code",
   "execution_count": 20,
   "id": "05102bd6-8e1f-473c-8f9c-cf2f4cfb6b87",
   "metadata": {},
   "outputs": [],
   "source": [
    "per_product = page_html.find_all(\"div\" ,{\"class\" :\"_1AtVbE col-12-12\"})"
   ]
  },
  {
   "cell_type": "code",
   "execution_count": 21,
   "id": "0d2c7ef2-cfec-42ef-b958-f9fad68d03a7",
   "metadata": {},
   "outputs": [
    {
     "data": {
      "text/plain": [
       "30"
      ]
     },
     "execution_count": 21,
     "metadata": {},
     "output_type": "execute_result"
    }
   ],
   "source": [
    "len(per_product)"
   ]
  },
  {
   "cell_type": "code",
   "execution_count": 22,
   "id": "ee474000-ebe6-4395-867f-8e2c63ab0bfb",
   "metadata": {},
   "outputs": [],
   "source": [
    "del per_product[0:2]"
   ]
  },
  {
   "cell_type": "code",
   "execution_count": 23,
   "id": "25c453fb-34ff-4cf2-83a3-083e57688ba4",
   "metadata": {},
   "outputs": [],
   "source": [
    "product = \"https://www.flipkart.com\" + per_product[0].div.div.div.a['href']"
   ]
  },
  {
   "cell_type": "code",
   "execution_count": 24,
   "id": "43fe9c84-a844-48aa-9f87-798ef9e56ead",
   "metadata": {},
   "outputs": [
    {
     "name": "stdout",
     "output_type": "stream",
     "text": [
      "https://www.flipkart.com/dyanora-sigma-108-cm-43-inch-full-hd-led-smart-coolita-tv-40-watt-box-speakers-bezel-less-design/p/itm26cc04ea1b561?pid=TVSGP8PSMGUZHPA8&lid=LSTTVSGP8PSMGUZHPA80Q5QLJ&marketplace=FLIPKART&q=tv&store=ckf%2Fczl&srno=s_1_1&otracker=search&fm=organic&iid=en_ffp0D03QcpT44CJUobtwL5Qmwg7Bx5aNFKYOCbcw65J4OdsgxcxEl5kGQP3GI0RMYiERAwIGwsIJ_9RBVoEm-A%3D%3D&ppt=None&ppn=None&ssid=p6svcmpikw0000001688826263396&qH=c9a1fdac6e082dd8\n",
      "https://www.flipkart.com/xelectron-80-cm-32-inch-hd-ready-led-tv/p/itm0bff3900432c5?pid=TVSGZVG5ZACS7D6D&lid=LSTTVSGZVG5ZACS7D6D22CABK&marketplace=FLIPKART&q=tv&store=ckf%2Fczl&srno=s_1_2&otracker=search&fm=organic&iid=en_ffp0D03QcpT44CJUobtwL5Qmwg7Bx5aNFKYOCbcw65IHrgm1FAW1KniF57k-6FZ-AmyLb5fLNzpj3uTHdeZ4Mw%3D%3D&ppt=None&ppn=None&ssid=p6svcmpikw0000001688826263396&qH=c9a1fdac6e082dd8\n",
      "https://www.flipkart.com/mi-5a-80-cm-32-inch-hd-ready-led-smart-android-tv-dolby-audio-2022-model/p/itm98501ffa297ba?pid=TVSGD5CS2SDUUZGN&lid=LSTTVSGD5CS2SDUUZGNPVJDFV&marketplace=FLIPKART&q=tv&store=ckf%2Fczl&spotlightTagId=BestsellerId_ckf%2Fczl&srno=s_1_3&otracker=search&fm=organic&iid=faaa12d5-b356-4314-8660-67c61a17de40.TVSGD5CS2SDUUZGN.SEARCH&ppt=None&ppn=None&ssid=p6svcmpikw0000001688826263396&qH=c9a1fdac6e082dd8\n",
      "https://www.flipkart.com/lg-80-cm-32-inch-hd-ready-led-smart-webos-tv/p/itm6207e6d122567?pid=TVSFTW4CSRW8PGDQ&lid=LSTTVSFTW4CSRW8PGDQSZQIO6&marketplace=FLIPKART&q=tv&store=ckf%2Fczl&spotlightTagId=FkPickId_ckf%2Fczl&srno=s_1_4&otracker=search&fm=organic&iid=faaa12d5-b356-4314-8660-67c61a17de40.TVSFTW4CSRW8PGDQ.SEARCH&ppt=None&ppn=None&ssid=p6svcmpikw0000001688826263396&qH=c9a1fdac6e082dd8\n",
      "https://www.flipkart.com/infinix-y1-80-cm-32-inch-hd-ready-led-smart-linux-tv-wall-mount/p/itme5476ca89d1b0?pid=TVSGFGF34GMTB9KF&lid=LSTTVSGFGF34GMTB9KFNOEUDG&marketplace=FLIPKART&q=tv&store=ckf%2Fczl&spotlightTagId=BestsellerId_ckf%2Fczl&srno=s_1_5&otracker=search&fm=organic&iid=faaa12d5-b356-4314-8660-67c61a17de40.TVSGFGF34GMTB9KF.SEARCH&ppt=None&ppn=None&ssid=p6svcmpikw0000001688826263396&qH=c9a1fdac6e082dd8\n",
      "https://www.flipkart.com/samsung-80-cm-32-inch-hd-ready-led-smart-tizen-tv-bezel-free-design/p/itm3c07ddc2dd25d?pid=TVSGHY2UZA9YHWQN&lid=LSTTVSGHY2UZA9YHWQNCPAW6M&marketplace=FLIPKART&q=tv&store=ckf%2Fczl&spotlightTagId=BestsellerId_ckf%2Fczl&srno=s_1_6&otracker=search&fm=organic&iid=faaa12d5-b356-4314-8660-67c61a17de40.TVSGHY2UZA9YHWQN.SEARCH&ppt=None&ppn=None&ssid=p6svcmpikw0000001688826263396&qH=c9a1fdac6e082dd8\n",
      "https://www.flipkart.com/thomson-alpha-80-cm-32-inch-hd-ready-led-smart-linux-tv-30-w-sound-output-bezel-less-design/p/itm0e90bcdadb9c9?pid=TVSGEMQV7R4CMTGA&lid=LSTTVSGEMQV7R4CMTGAODWDFI&marketplace=FLIPKART&q=tv&store=ckf%2Fczl&srno=s_1_7&otracker=search&fm=organic&iid=faaa12d5-b356-4314-8660-67c61a17de40.TVSGEMQV7R4CMTGA.SEARCH&ppt=None&ppn=None&ssid=p6svcmpikw0000001688826263396&qH=c9a1fdac6e082dd8\n",
      "https://www.flipkart.com/dyanora-108-cm-43-inch-full-hd-led-smart-android-based-tv-noise-reduction-9-0-google-voice-assistant-powerful-audio-box-speakers/p/itm84355467866a2?pid=TVSGM2KAZSF3ARR8&lid=LSTTVSGM2KAZSF3ARR8NVNBMO&marketplace=FLIPKART&q=tv&store=ckf%2Fczl&srno=s_1_8&otracker=search&fm=organic&iid=en_ffp0D03QcpT44CJUobtwL5Qmwg7Bx5aNFKYOCbcw65LHR4ZafpZcCOKTELpyYC3NtfwDFzt9dsWz6iWH2qzNPA%3D%3D&ppt=None&ppn=None&ssid=p6svcmpikw0000001688826263396&qH=c9a1fdac6e082dd8\n",
      "https://www.flipkart.com/realme-80-cm-32-inch-hd-ready-led-smart-android-tv/p/itm56d1cf16da75b?pid=TVSFRTJQTZVKTF6Y&lid=LSTTVSFRTJQTZVKTF6YTYQNP6&marketplace=FLIPKART&q=tv&store=ckf%2Fczl&srno=s_1_9&otracker=search&fm=organic&iid=faaa12d5-b356-4314-8660-67c61a17de40.TVSFRTJQTZVKTF6Y.SEARCH&ppt=None&ppn=None&ssid=p6svcmpikw0000001688826263396&qH=c9a1fdac6e082dd8\n",
      "https://www.flipkart.com/iffalcon-tcl-80-04-cm-32-inch-hd-ready-led-smart-android-tv-bezel-less-design-24w-speaker/p/itm82d22461c3761?pid=TVSGKNZGHCZRNEDW&lid=LSTTVSGKNZGHCZRNEDWPKDF2X&marketplace=FLIPKART&q=tv&store=ckf%2Fczl&srno=s_1_10&otracker=search&fm=organic&iid=faaa12d5-b356-4314-8660-67c61a17de40.TVSGKNZGHCZRNEDW.SEARCH&ppt=None&ppn=None&ssid=p6svcmpikw0000001688826263396&qH=c9a1fdac6e082dd8\n",
      "https://www.flipkart.com/dyanora-109-cm-43-inch-ultra-hd-4k-led-smart-webos-tv/p/itm1bfdb24f70724?pid=TVSGM2KAAWWRXAUH&lid=LSTTVSGM2KAAWWRXAUH4CDMIH&marketplace=FLIPKART&q=tv&store=ckf%2Fczl&srno=s_1_11&otracker=search&fm=organic&iid=en_ffp0D03QcpT44CJUobtwL5Qmwg7Bx5aNFKYOCbcw65Igf0g_CIL2pKSVjEMQbSNKnpmzFeglzbQvZMfUaQhuaw%3D%3D&ppt=None&ppn=None&ssid=p6svcmpikw0000001688826263396&qH=c9a1fdac6e082dd8\n",
      "https://www.flipkart.com/dyanora-109-cm-43-inch-ultra-hd-4k-led-smart-webos-tv-hdr-10-micro-dimming-noise-reduction-dolby-surround-sound/p/itm2a56b4fff931b?pid=TVSGM2KA8HJCHM8K&lid=LSTTVSGM2KA8HJCHM8KQAGPUZ&marketplace=FLIPKART&q=tv&store=ckf%2Fczl&srno=s_1_12&otracker=search&fm=organic&iid=en_ffp0D03QcpT44CJUobtwL5Qmwg7Bx5aNFKYOCbcw65JS6WF6LrLiK7odChDBKsKGQT_1QYsg-mz0_c8T_9-MKw%3D%3D&ppt=None&ppn=None&ssid=p6svcmpikw0000001688826263396&qH=c9a1fdac6e082dd8\n",
      "https://www.flipkart.com/oneplus-y1s-80-cm-32-inch-hd-ready-led-smart-android-tv-11-bezel-less-frame/p/itm0a39edd7df236?pid=TVSGAXEVXNG9YBUM&lid=LSTTVSGAXEVXNG9YBUMNFXTWO&marketplace=FLIPKART&q=tv&store=ckf%2Fczl&srno=s_1_13&otracker=search&fm=organic&iid=faaa12d5-b356-4314-8660-67c61a17de40.TVSGAXEVXNG9YBUM.SEARCH&ppt=None&ppn=None&ssid=p6svcmpikw0000001688826263396&qH=c9a1fdac6e082dd8\n",
      "https://www.flipkart.com/oneplus-y1s-108-cm-43-inch-full-hd-led-smart-android-tv-11-bezel-less-frame/p/itm178846d2e1567?pid=TVSGAXEVSNT3HBQA&lid=LSTTVSGAXEVSNT3HBQADHUARX&marketplace=FLIPKART&q=tv&store=ckf%2Fczl&srno=s_1_14&otracker=search&fm=organic&iid=faaa12d5-b356-4314-8660-67c61a17de40.TVSGAXEVSNT3HBQA.SEARCH&ppt=None&ppn=None&ssid=p6svcmpikw0000001688826263396&qH=c9a1fdac6e082dd8\n",
      "https://www.flipkart.com/infinix-x3in-80-cm-32-cm-hd-ready-led-smart-android-tv/p/itmc3e5d996d0aa3?pid=TVSGZZY4MHBSP9VD&lid=LSTTVSGZZY4MHBSP9VDVQ1L7Z&marketplace=FLIPKART&q=tv&store=ckf%2Fczl&srno=s_1_15&otracker=search&fm=organic&iid=faaa12d5-b356-4314-8660-67c61a17de40.TVSGZZY4MHBSP9VD.SEARCH&ppt=None&ppn=None&ssid=p6svcmpikw0000001688826263396&qH=c9a1fdac6e082dd8\n",
      "https://www.flipkart.com/mi-5a-100-cm-40-inch-full-hd-led-smart-android-tv-dolby-audio-2022-model/p/itm6be60be56f52d?pid=TVSGD5CS4N7NWFZD&lid=LSTTVSGD5CS4N7NWFZDCMWLRV&marketplace=FLIPKART&q=tv&store=ckf%2Fczl&srno=s_1_16&otracker=search&fm=organic&iid=faaa12d5-b356-4314-8660-67c61a17de40.TVSGD5CS4N7NWFZD.SEARCH&ppt=None&ppn=None&ssid=p6svcmpikw0000001688826263396&qH=c9a1fdac6e082dd8\n",
      "https://www.flipkart.com/coocaa-80-cm-32-inch-hd-ready-led-smart-coolita-tv-dolby-audio-eye-care-technology/p/itm1d67beddce98f?pid=TVSG4VHWKAP6KYP4&lid=LSTTVSG4VHWKAP6KYP4QBLASU&marketplace=FLIPKART&q=tv&store=ckf%2Fczl&srno=s_1_17&otracker=search&fm=organic&iid=faaa12d5-b356-4314-8660-67c61a17de40.TVSG4VHWKAP6KYP4.SEARCH&ppt=None&ppn=None&ssid=p6svcmpikw0000001688826263396&qH=c9a1fdac6e082dd8\n",
      "https://www.flipkart.com/acer-series-80-cm-32-inch-hd-ready-led-smart-android-tv-11-1-5gb-ram-2022-model/p/itm5767c4e3d5359?pid=TVSGEYD98YRZGSRU&lid=LSTTVSGEYD98YRZGSRUPETPT6&marketplace=FLIPKART&q=tv&store=ckf%2Fczl&srno=s_1_18&otracker=search&fm=organic&iid=faaa12d5-b356-4314-8660-67c61a17de40.TVSGEYD98YRZGSRU.SEARCH&ppt=None&ppn=None&ssid=p6svcmpikw0000001688826263396&qH=c9a1fdac6e082dd8\n",
      "https://www.flipkart.com/mi-x-series-108-cm-43-inch-ultra-hd-4k-led-smart-android-tv-dolby-vision-30w-audio-2022-model/p/itm39b39b602f81a?pid=TVSGHEQVGZVTSEBT&lid=LSTTVSGHEQVGZVTSEBT6BSNVA&marketplace=FLIPKART&q=tv&store=ckf%2Fczl&srno=s_1_19&otracker=search&fm=organic&iid=faaa12d5-b356-4314-8660-67c61a17de40.TVSGHEQVGZVTSEBT.SEARCH&ppt=None&ppn=None&ssid=p6svcmpikw0000001688826263396&qH=c9a1fdac6e082dd8\n",
      "https://www.flipkart.com/tcl-80-04-cm-32-inch-hd-ready-led-smart-android-tv-bezel-less-extra-brightness/p/itm1f6df5a8ab267?pid=TVSGKNZGMFPRKQJZ&lid=LSTTVSGKNZGMFPRKQJZS5GUN6&marketplace=FLIPKART&q=tv&store=ckf%2Fczl&srno=s_1_20&otracker=search&fm=organic&iid=faaa12d5-b356-4314-8660-67c61a17de40.TVSGKNZGMFPRKQJZ.SEARCH&ppt=None&ppn=None&ssid=p6svcmpikw0000001688826263396&qH=c9a1fdac6e082dd8\n",
      "https://www.flipkart.com/iffalcon-tcl-u62-108-cm-43-inch-ultra-hd-4k-led-smart-google-tv-bezel-less-design-dolby-audio/p/itm09fd15fcb7ee8?pid=TVSGGJTQPTRDFDGX&lid=LSTTVSGGJTQPTRDFDGXEORYEG&marketplace=FLIPKART&q=tv&store=ckf%2Fczl&srno=s_1_21&otracker=search&fm=organic&iid=faaa12d5-b356-4314-8660-67c61a17de40.TVSGGJTQPTRDFDGX.SEARCH&ppt=None&ppn=None&ssid=p6svcmpikw0000001688826263396&qH=c9a1fdac6e082dd8\n",
      "https://www.flipkart.com/mi-5a-108-cm-43-inch-full-hd-led-smart-android-tv-dolby-audio-2022-model/p/itm2d5967449cb9b?pid=TVSGD5CS3CXNF2DF&lid=LSTTVSGD5CS3CXNF2DFVCD74U&marketplace=FLIPKART&q=tv&store=ckf%2Fczl&srno=s_1_22&otracker=search&fm=organic&iid=faaa12d5-b356-4314-8660-67c61a17de40.TVSGD5CS3CXNF2DF.SEARCH&ppt=None&ppn=None&ssid=p6svcmpikw0000001688826263396&qH=c9a1fdac6e082dd8\n",
      "https://www.flipkart.com/realme-108-cm-43-inch-full-hd-led-smart-android-tv-11-2022-model/p/itmef2cbebb563ff?pid=TVSGDC5CFDS55XDC&lid=LSTTVSGDC5CFDS55XDCP0DMJQ&marketplace=FLIPKART&q=tv&store=ckf%2Fczl&srno=s_1_23&otracker=search&fm=organic&iid=faaa12d5-b356-4314-8660-67c61a17de40.TVSGDC5CFDS55XDC.SEARCH&ppt=None&ppn=None&ssid=p6svcmpikw0000001688826263396&qH=c9a1fdac6e082dd8\n",
      "https://www.flipkart.com/lg-uq7500-108-cm-43-inch-ultra-hd-4k-led-smart-webos-tv-2022-filmmaker-mode-ai-sound-active-hdr/p/itm39fd5782b27ed?pid=TVSGFGYS5TJRUJNV&lid=LSTTVSGFGYS5TJRUJNVLCTYNB&marketplace=FLIPKART&q=tv&store=ckf%2Fczl&srno=s_1_24&otracker=search&fm=organic&iid=faaa12d5-b356-4314-8660-67c61a17de40.TVSGFGYS5TJRUJNV.SEARCH&ppt=None&ppn=None&ssid=p6svcmpikw0000001688826263396&qH=c9a1fdac6e082dd8\n"
     ]
    },
    {
     "ename": "AttributeError",
     "evalue": "'NoneType' object has no attribute 'a'",
     "output_type": "error",
     "traceback": [
      "\u001b[0;31m---------------------------------------------------------------------------\u001b[0m",
      "\u001b[0;31mAttributeError\u001b[0m                            Traceback (most recent call last)",
      "Cell \u001b[0;32mIn[24], line 2\u001b[0m\n\u001b[1;32m      1\u001b[0m \u001b[38;5;28;01mfor\u001b[39;00m i \u001b[38;5;129;01min\u001b[39;00m per_product:\n\u001b[0;32m----> 2\u001b[0m     \u001b[38;5;28mprint\u001b[39m(\u001b[38;5;124m\"\u001b[39m\u001b[38;5;124mhttps://www.flipkart.com\u001b[39m\u001b[38;5;124m\"\u001b[39m \u001b[38;5;241m+\u001b[39m \u001b[43mi\u001b[49m\u001b[38;5;241;43m.\u001b[39;49m\u001b[43mdiv\u001b[49m\u001b[38;5;241;43m.\u001b[39;49m\u001b[43mdiv\u001b[49m\u001b[38;5;241;43m.\u001b[39;49m\u001b[43mdiv\u001b[49m\u001b[38;5;241;43m.\u001b[39;49m\u001b[43ma\u001b[49m[\u001b[38;5;124m'\u001b[39m\u001b[38;5;124mhref\u001b[39m\u001b[38;5;124m'\u001b[39m])\n",
      "\u001b[0;31mAttributeError\u001b[0m: 'NoneType' object has no attribute 'a'"
     ]
    }
   ],
   "source": [
    "for i in per_product:\n",
    "    print(\"https://www.flipkart.com\" + i.div.div.div.a['href'])"
   ]
  },
  {
   "cell_type": "code",
   "execution_count": 25,
   "id": "d3e3e549-7def-4cbc-a64d-1679e6fc66e3",
   "metadata": {},
   "outputs": [
    {
     "data": {
      "text/plain": [
       "'https://www.flipkart.com/dyanora-sigma-108-cm-43-inch-full-hd-led-smart-coolita-tv-40-watt-box-speakers-bezel-less-design/p/itm26cc04ea1b561?pid=TVSGP8PSMGUZHPA8&lid=LSTTVSGP8PSMGUZHPA80Q5QLJ&marketplace=FLIPKART&q=tv&store=ckf%2Fczl&srno=s_1_1&otracker=search&fm=organic&iid=en_ffp0D03QcpT44CJUobtwL5Qmwg7Bx5aNFKYOCbcw65J4OdsgxcxEl5kGQP3GI0RMYiERAwIGwsIJ_9RBVoEm-A%3D%3D&ppt=None&ppn=None&ssid=p6svcmpikw0000001688826263396&qH=c9a1fdac6e082dd8'"
      ]
     },
     "execution_count": 25,
     "metadata": {},
     "output_type": "execute_result"
    }
   ],
   "source": [
    "product"
   ]
  },
  {
   "cell_type": "code",
   "execution_count": 26,
   "id": "7fe18539-e82c-46b5-a0fe-c332941922d0",
   "metadata": {},
   "outputs": [],
   "source": [
    "product_req = requests.get(product)"
   ]
  },
  {
   "cell_type": "code",
   "execution_count": 27,
   "id": "64970ad1-6cbb-43ca-bf5b-6a56c799e0c5",
   "metadata": {},
   "outputs": [],
   "source": [
    "product_html = bs(product_req.text,\"html.parser\")"
   ]
  },
  {
   "cell_type": "code",
   "execution_count": 28,
   "id": "2322f474-c956-433a-97f9-ba492336979e",
   "metadata": {},
   "outputs": [],
   "source": [
    "comment_box = product_html.find_all(\"div\",{\"class\" : \"_16PBlm\"})"
   ]
  },
  {
   "cell_type": "code",
   "execution_count": 29,
   "id": "d3754435-9dae-4e8a-ac31-ca1b06d0782e",
   "metadata": {},
   "outputs": [
    {
     "data": {
      "text/plain": [
       "11"
      ]
     },
     "execution_count": 29,
     "metadata": {},
     "output_type": "execute_result"
    }
   ],
   "source": [
    "len(comment_box)"
   ]
  },
  {
   "cell_type": "code",
   "execution_count": 30,
   "id": "4a696f50-7c03-4c97-b58e-a4f365292bc6",
   "metadata": {},
   "outputs": [
    {
     "data": {
      "text/plain": [
       "'Flipkart Customer'"
      ]
     },
     "execution_count": 30,
     "metadata": {},
     "output_type": "execute_result"
    }
   ],
   "source": [
    "comment_box[0].div.div(\"p\",{\"class\" : \"_2sc7ZR _2V5EHH\"})[0].text"
   ]
  },
  {
   "cell_type": "code",
   "execution_count": 31,
   "id": "264a7c67-f309-423c-9f5a-ec4c4ca3fd93",
   "metadata": {},
   "outputs": [
    {
     "name": "stdout",
     "output_type": "stream",
     "text": [
      "Flipkart Customer\n",
      "Flipkart Customer\n",
      "Tanmoy  Das\n",
      "Wasim Ansari\n",
      "Partho Mondal\n",
      "Sohil  Miragol \n",
      "Ketan Thakare\n",
      "Flipkart Customer\n",
      "Ganesh Anandan Chettiyar\n",
      "praveen Kumar\n"
     ]
    },
    {
     "ename": "AttributeError",
     "evalue": "'NoneType' object has no attribute 'div'",
     "output_type": "error",
     "traceback": [
      "\u001b[0;31m---------------------------------------------------------------------------\u001b[0m",
      "\u001b[0;31mAttributeError\u001b[0m                            Traceback (most recent call last)",
      "Cell \u001b[0;32mIn[31], line 2\u001b[0m\n\u001b[1;32m      1\u001b[0m \u001b[38;5;28;01mfor\u001b[39;00m i \u001b[38;5;129;01min\u001b[39;00m comment_box:\n\u001b[0;32m----> 2\u001b[0m     \u001b[38;5;28mprint\u001b[39m(\u001b[43mi\u001b[49m\u001b[38;5;241;43m.\u001b[39;49m\u001b[43mdiv\u001b[49m\u001b[38;5;241;43m.\u001b[39;49m\u001b[43mdiv\u001b[49m(\u001b[38;5;124m\"\u001b[39m\u001b[38;5;124mp\u001b[39m\u001b[38;5;124m\"\u001b[39m,{\u001b[38;5;124m\"\u001b[39m\u001b[38;5;124mclass\u001b[39m\u001b[38;5;124m\"\u001b[39m : \u001b[38;5;124m\"\u001b[39m\u001b[38;5;124m_2sc7ZR _2V5EHH\u001b[39m\u001b[38;5;124m\"\u001b[39m})[\u001b[38;5;241m0\u001b[39m]\u001b[38;5;241m.\u001b[39mtext)\n",
      "\u001b[0;31mAttributeError\u001b[0m: 'NoneType' object has no attribute 'div'"
     ]
    }
   ],
   "source": [
    "for i in comment_box:\n",
    "    print(i.div.div(\"p\",{\"class\" : \"_2sc7ZR _2V5EHH\"})[0].text)\n",
    "    "
   ]
  },
  {
   "cell_type": "code",
   "execution_count": 32,
   "id": "65177759-d421-45ce-b8a3-fc3c7ee76ba9",
   "metadata": {},
   "outputs": [
    {
     "data": {
      "text/plain": [
       "'5'"
      ]
     },
     "execution_count": 32,
     "metadata": {},
     "output_type": "execute_result"
    }
   ],
   "source": [
    "comment_box[0].div.div.div.div.text"
   ]
  },
  {
   "cell_type": "code",
   "execution_count": 33,
   "id": "5f18be9a-3a2c-44c9-b5e0-6c4ac858ea76",
   "metadata": {},
   "outputs": [
    {
     "data": {
      "text/plain": [
       "'5'"
      ]
     },
     "execution_count": 33,
     "metadata": {},
     "output_type": "execute_result"
    }
   ],
   "source": [
    "#this and above one is completly same\n",
    "product_html.find_all(\"div\",{\"class\": \"_3LWZlK _1BLPMq\"})[0].text"
   ]
  },
  {
   "cell_type": "code",
   "execution_count": 34,
   "id": "552dc20c-bb39-4239-8408-ca7162bc2b4f",
   "metadata": {},
   "outputs": [
    {
     "name": "stdout",
     "output_type": "stream",
     "text": [
      "5\n",
      "4\n",
      "5\n",
      "3\n",
      "5\n",
      "5\n",
      "3\n",
      "5\n",
      "5\n",
      "5\n"
     ]
    },
    {
     "ename": "AttributeError",
     "evalue": "'NoneType' object has no attribute 'div'",
     "output_type": "error",
     "traceback": [
      "\u001b[0;31m---------------------------------------------------------------------------\u001b[0m",
      "\u001b[0;31mAttributeError\u001b[0m                            Traceback (most recent call last)",
      "Cell \u001b[0;32mIn[34], line 2\u001b[0m\n\u001b[1;32m      1\u001b[0m \u001b[38;5;28;01mfor\u001b[39;00m i \u001b[38;5;129;01min\u001b[39;00m comment_box:\n\u001b[0;32m----> 2\u001b[0m     \u001b[38;5;28mprint\u001b[39m(\u001b[43mi\u001b[49m\u001b[38;5;241;43m.\u001b[39;49m\u001b[43mdiv\u001b[49m\u001b[38;5;241;43m.\u001b[39;49m\u001b[43mdiv\u001b[49m\u001b[38;5;241m.\u001b[39mdiv\u001b[38;5;241m.\u001b[39mdiv\u001b[38;5;241m.\u001b[39mtext)\n",
      "\u001b[0;31mAttributeError\u001b[0m: 'NoneType' object has no attribute 'div'"
     ]
    }
   ],
   "source": [
    "for i in comment_box:\n",
    "    print(i.div.div.div.div.text)"
   ]
  },
  {
   "cell_type": "code",
   "execution_count": 35,
   "id": "91a5eaf2-7354-458d-915b-e8ed3f5b2dd6",
   "metadata": {},
   "outputs": [
    {
     "data": {
      "text/plain": [
       "'Great product'"
      ]
     },
     "execution_count": 35,
     "metadata": {},
     "output_type": "execute_result"
    }
   ],
   "source": [
    "product_html.find_all(\"p\",{\"class\":\"_2-N8zT\"})[0].text"
   ]
  },
  {
   "cell_type": "code",
   "execution_count": 36,
   "id": "96559543-5cd5-4f32-8c01-99633670ee0b",
   "metadata": {},
   "outputs": [
    {
     "name": "stdout",
     "output_type": "stream",
     "text": [
      "Great product\n",
      "Delightful\n",
      "Mind-blowing purchase\n",
      "Decent product\n",
      "Wonderful\n",
      "Great product\n",
      "Does the job\n",
      "Mind-blowing purchase\n",
      "Mind-blowing purchase\n",
      "Mind-blowing purchase\n"
     ]
    },
    {
     "ename": "IndexError",
     "evalue": "list index out of range",
     "output_type": "error",
     "traceback": [
      "\u001b[0;31m---------------------------------------------------------------------------\u001b[0m",
      "\u001b[0;31mIndexError\u001b[0m                                Traceback (most recent call last)",
      "Cell \u001b[0;32mIn[36], line 2\u001b[0m\n\u001b[1;32m      1\u001b[0m \u001b[38;5;28;01mfor\u001b[39;00m i \u001b[38;5;129;01min\u001b[39;00m comment_box:\n\u001b[0;32m----> 2\u001b[0m     \u001b[38;5;28mprint\u001b[39m(\u001b[43mi\u001b[49m\u001b[38;5;241;43m.\u001b[39;49m\u001b[43mfind_all\u001b[49m\u001b[43m(\u001b[49m\u001b[38;5;124;43m\"\u001b[39;49m\u001b[38;5;124;43mp\u001b[39;49m\u001b[38;5;124;43m\"\u001b[39;49m\u001b[43m,\u001b[49m\u001b[43m{\u001b[49m\u001b[38;5;124;43m\"\u001b[39;49m\u001b[38;5;124;43mclass\u001b[39;49m\u001b[38;5;124;43m\"\u001b[39;49m\u001b[43m:\u001b[49m\u001b[38;5;124;43m\"\u001b[39;49m\u001b[38;5;124;43m_2-N8zT\u001b[39;49m\u001b[38;5;124;43m\"\u001b[39;49m\u001b[43m}\u001b[49m\u001b[43m)\u001b[49m\u001b[43m[\u001b[49m\u001b[38;5;241;43m0\u001b[39;49m\u001b[43m]\u001b[49m\u001b[38;5;241m.\u001b[39mtext)\n",
      "\u001b[0;31mIndexError\u001b[0m: list index out of range"
     ]
    }
   ],
   "source": [
    "for i in comment_box:\n",
    "    print(i.find_all(\"p\",{\"class\":\"_2-N8zT\"})[0].text)"
   ]
  },
  {
   "cell_type": "code",
   "execution_count": 37,
   "id": "35c96adc-fb68-40ce-aaa5-806b3bd74361",
   "metadata": {},
   "outputs": [
    {
     "data": {
      "text/plain": [
       "\"Thank you so much online Flipkart for your gift in my birthday date. I'm so happy for this product thank you dyanora  company 💖READ MORE\""
      ]
     },
     "execution_count": 37,
     "metadata": {},
     "output_type": "execute_result"
    }
   ],
   "source": [
    "comment_box[0].div.div(\"div\",{\"class\" : \"\"})[0].text"
   ]
  },
  {
   "cell_type": "code",
   "execution_count": 38,
   "id": "64b4eff7-6e2e-41d3-9404-22774f374a19",
   "metadata": {},
   "outputs": [
    {
     "name": "stdout",
     "output_type": "stream",
     "text": [
      "Thank you so much online Flipkart for your gift in my birthday date. I'm so happy for this product thank you dyanora  company 💖READ MORE\n",
      "\n",
      "\n",
      "Very good product I like itREAD MORE\n",
      "\n",
      "\n",
      "Value for moneyREAD MORE\n",
      "\n",
      "\n",
      "Nice Product 👍READ MORE\n",
      "\n",
      "\n",
      "5 star tv good qualityREAD MORE\n",
      "\n",
      "\n",
      "A1 QualityREAD MORE\n",
      "\n",
      "\n",
      "Software Optimisation is very poorREAD MORE\n",
      "\n",
      "\n",
      "Awesome tv!!!! Budget tv best tv ..... Little hang...Sometime it will get struck we can off and on the tv it will get to normalREAD MORE\n",
      "\n",
      "\n",
      "Worth for money. Reasonable price for smart tv picture quality very goodREAD MORE\n",
      "\n",
      "\n",
      "Gud product in low budget Nice item from Flipkart value for money thanqREAD MORE\n",
      "\n",
      "\n"
     ]
    },
    {
     "ename": "AttributeError",
     "evalue": "'NoneType' object has no attribute 'div'",
     "output_type": "error",
     "traceback": [
      "\u001b[0;31m---------------------------------------------------------------------------\u001b[0m",
      "\u001b[0;31mAttributeError\u001b[0m                            Traceback (most recent call last)",
      "Cell \u001b[0;32mIn[38], line 2\u001b[0m\n\u001b[1;32m      1\u001b[0m \u001b[38;5;28;01mfor\u001b[39;00m i \u001b[38;5;129;01min\u001b[39;00m comment_box:\n\u001b[0;32m----> 2\u001b[0m     \u001b[38;5;28mprint\u001b[39m(\u001b[43mi\u001b[49m\u001b[38;5;241;43m.\u001b[39;49m\u001b[43mdiv\u001b[49m\u001b[38;5;241;43m.\u001b[39;49m\u001b[43mdiv\u001b[49m(\u001b[38;5;124m\"\u001b[39m\u001b[38;5;124mdiv\u001b[39m\u001b[38;5;124m\"\u001b[39m,{\u001b[38;5;124m\"\u001b[39m\u001b[38;5;124mclass\u001b[39m\u001b[38;5;124m\"\u001b[39m : \u001b[38;5;124m\"\u001b[39m\u001b[38;5;124m\"\u001b[39m})[\u001b[38;5;241m0\u001b[39m]\u001b[38;5;241m.\u001b[39mtext)\n\u001b[1;32m      3\u001b[0m     \u001b[38;5;28mprint\u001b[39m(\u001b[38;5;124m\"\u001b[39m\u001b[38;5;130;01m\\n\u001b[39;00m\u001b[38;5;124m\"\u001b[39m)\n",
      "\u001b[0;31mAttributeError\u001b[0m: 'NoneType' object has no attribute 'div'"
     ]
    }
   ],
   "source": [
    "for i in comment_box:\n",
    "    print(i.div.div(\"div\",{\"class\" : \"\"})[0].text)\n",
    "    print(\"\\n\")"
   ]
  },
  {
   "cell_type": "code",
   "execution_count": null,
   "id": "83ec72ca-bf5c-444f-af15-229a3e9f0e4f",
   "metadata": {},
   "outputs": [],
   "source": []
  }
 ],
 "metadata": {
  "kernelspec": {
   "display_name": "Python 3 (ipykernel)",
   "language": "python",
   "name": "python3"
  },
  "language_info": {
   "codemirror_mode": {
    "name": "ipython",
    "version": 3
   },
   "file_extension": ".py",
   "mimetype": "text/x-python",
   "name": "python",
   "nbconvert_exporter": "python",
   "pygments_lexer": "ipython3",
   "version": "3.10.8"
  }
 },
 "nbformat": 4,
 "nbformat_minor": 5
}
